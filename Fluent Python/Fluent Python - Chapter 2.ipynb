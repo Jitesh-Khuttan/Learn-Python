{
 "cells": [
  {
   "cell_type": "code",
   "execution_count": 6,
   "metadata": {},
   "outputs": [
    {
     "data": {
      "text/plain": [
       "'Himesh'"
      ]
     },
     "execution_count": 6,
     "metadata": {},
     "output_type": "execute_result"
    }
   ],
   "source": [
    "#List Comprehensions\n",
    "\n",
    "# -> A better one liner way to produce lists\n",
    "#Difference between 2.x List-Comps and 3.x \n",
    "\n",
    "#Python 2.x changes the value of variables in the surrounding scope.\n",
    "name = 'Jitesh'\n",
    "lst_comp = [name for name in [\"Jitesh\", \"Himesh\"]]\n",
    "name\n",
    "\n",
    "#Here the name will become ''\n",
    "\n",
    "\n",
    "#Python 3.x gives a local scope to list-comps as with functions.\n",
    "name = 'Jitesh'\n",
    "lst_comp = [name for name in [\"Jitesh\",\"Himesh\"]]\n",
    "name\n",
    "\n",
    "#Here name will still be 'Jitesh'.\n",
    " "
   ]
  },
  {
   "cell_type": "code",
   "execution_count": 16,
   "metadata": {},
   "outputs": [
    {
     "data": {
      "text/plain": [
       "[('Red', 'S'),\n",
       " ('Red', 'M'),\n",
       " ('Red', 'L'),\n",
       " ('Green', 'S'),\n",
       " ('Green', 'M'),\n",
       " ('Green', 'L')]"
      ]
     },
     "execution_count": 16,
     "metadata": {},
     "output_type": "execute_result"
    }
   ],
   "source": [
    "colors = ['Red', 'Green']\n",
    "sizes = ['S', 'M', 'L']\n",
    "cartesian_prod = [(color, size) for color in colors\n",
    "                      for size in sizes]\n",
    "set_cart = set(cartesian_prod)\n",
    "cartesian_prod"
   ]
  },
  {
   "cell_type": "code",
   "execution_count": 24,
   "metadata": {},
   "outputs": [
    {
     "data": {
      "text/plain": [
       "array('I', [33L, 64L, 35L, 36L, 37L, 94L])"
      ]
     },
     "execution_count": 24,
     "metadata": {},
     "output_type": "execute_result"
    }
   ],
   "source": [
    "#Generator Expressions\n",
    "\n",
    "\"\"\"\n",
    "To create other sequences other than lists, we can use generator expressions instead of \n",
    "using list-comps.\n",
    "Generator expression are memory efficient - as they yield values one by one instead of making\n",
    "the list first and then feeding it to the target sequence's constructor\n",
    "\"\"\"\n",
    "\n",
    "symbols = \"!@#$%^\"\n",
    "lst = [ord(x) for x in symbols]\n",
    "set_ = set(ord(x) for x in symbols)\n",
    "sym_tup = tuple(ord(sym) for sym in symbols)\n",
    "sym_tup\n",
    "\n",
    "#If the generator expression is the single argument in a function call, there is no\n",
    "#need to duplicate the enclosing parenthesis.\n",
    "\n",
    "import array\n",
    "sym_tup = array.array('I',(ord(sym) for sym in symbols))\n",
    "sym_tup\n",
    "\n",
    "\n"
   ]
  }
 ],
 "metadata": {
  "kernelspec": {
   "display_name": "Python 2",
   "language": "python",
   "name": "python2"
  },
  "language_info": {
   "codemirror_mode": {
    "name": "ipython",
    "version": 2
   },
   "file_extension": ".py",
   "mimetype": "text/x-python",
   "name": "python",
   "nbconvert_exporter": "python",
   "pygments_lexer": "ipython2",
   "version": "2.7.15"
  }
 },
 "nbformat": 4,
 "nbformat_minor": 2
}
