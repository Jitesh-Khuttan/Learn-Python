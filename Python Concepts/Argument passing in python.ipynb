{
 "cells": [
  {
   "cell_type": "markdown",
   "metadata": {},
   "source": [
    "### Pass by reference or Pass by value?\n",
    "\n",
    "The most common question asked is:- Does python use <b>'Pass by reference'</b> or <b>'Pass by Value'</b> mechanism? The answer is that python uses <b>neither</b> of them. It uses something called <b>'Pass by Object Reference'</b> mechnaism.\n",
    "\n",
    "To understand this mechanism, let's first talk about below two concepts:\n",
    "- Object Binding\n",
    "- Mutability"
   ]
  },
  {
   "cell_type": "markdown",
   "metadata": {},
   "source": [
    "### Object Binding\n",
    "\n",
    "Whenever you assign a value to a variable in python, it actually binds the name of variable (simply called a label) to an object in memory. For example, below the 'x' and 'y' are the labels which are bound to integer objects 10 and 20 respectively.\n",
    "\n",
    "Another thing to note below is that the literals are stored once in memory and different names are bound to same objects. Eg: x = 10, z = 10 refer to same 10 in memeory. Similarly b = \"Jitesh\", a = \"Jitesh\" refer to same object as well.\n",
    "\n",
    "Now if you try to change the value of 'x', it will get <b>rebound</b> to some other object. This doesn't mean that the value of integer object 10 was changed in memory."
   ]
  },
  {
   "cell_type": "code",
   "execution_count": 10,
   "metadata": {},
   "outputs": [
    {
     "data": {
      "text/plain": [
       "10911392"
      ]
     },
     "execution_count": 10,
     "metadata": {},
     "output_type": "execute_result"
    }
   ],
   "source": [
    "x = 10\n",
    "y = 20\n",
    "id(x)"
   ]
  },
  {
   "cell_type": "code",
   "execution_count": 11,
   "metadata": {},
   "outputs": [
    {
     "data": {
      "text/plain": [
       "10911392"
      ]
     },
     "execution_count": 11,
     "metadata": {},
     "output_type": "execute_result"
    }
   ],
   "source": [
    "z = 10\n",
    "id(z)"
   ]
  },
  {
   "cell_type": "code",
   "execution_count": 8,
   "metadata": {},
   "outputs": [
    {
     "data": {
      "text/plain": [
       "140500019330328"
      ]
     },
     "execution_count": 8,
     "metadata": {},
     "output_type": "execute_result"
    }
   ],
   "source": [
    "a = \"Jitesh\"\n",
    "id(a)"
   ]
  },
  {
   "cell_type": "code",
   "execution_count": 9,
   "metadata": {},
   "outputs": [
    {
     "data": {
      "text/plain": [
       "140500019330328"
      ]
     },
     "execution_count": 9,
     "metadata": {},
     "output_type": "execute_result"
    }
   ],
   "source": [
    "b = \"Jitesh\"\n",
    "id(b)"
   ]
  },
  {
   "cell_type": "code",
   "execution_count": 12,
   "metadata": {},
   "outputs": [
    {
     "data": {
      "text/plain": [
       "10912672"
      ]
     },
     "execution_count": 12,
     "metadata": {},
     "output_type": "execute_result"
    }
   ],
   "source": [
    "x = 50\n",
    "id(x)"
   ]
  },
  {
   "cell_type": "markdown",
   "metadata": {},
   "source": [
    "### Mutability\n",
    "\n",
    "The concept of mutability is simple. The objects whose values can be changed are mutable otherwise they are immutable."
   ]
  },
  {
   "cell_type": "markdown",
   "metadata": {},
   "source": [
    "### Pass by Object Reference\n",
    "\n",
    "In 'pass by object reference', the <b>'references are copied by value'</b> when passing arguments to the function. \n",
    "\n",
    "<b>Example 1:-</b> When you pass 'x' to function 'f', the parameter 'fx' gets bound to the same object in memory to which 'x' is currently bound (can be seen though the id(fx) and id(x)). Now when you try to reassign the value of 'fx' to some other value, then 'fx' is rebounded to some other object. But this does not affect the binding of object 'x' in calle function.\n",
    "\n",
    "<b>Example 2:-</b> When you pass 'outer_list' to function 'g()', the 'my_list' get bound to same object in memory to which 'outer_list' is bound. Inside function 'g', when you reassign 'my_list' to a new list, the previous reference is lost and new binding is created. This doesn't affect the binding of 'outer_list'.\n",
    "\n",
    "<b>Example 3:-</b> When you pass 'outer_list' to function 'change()', my_list gets bound to same object in memory to which 'outer_list' is currently bound. Now, since the list is a mutable object, you can change the values at its memory location. So, when you append a value to my_list, the change will reflect in 'outer_list' as well, since they are bound to same object."
   ]
  },
  {
   "cell_type": "code",
   "execution_count": 28,
   "metadata": {},
   "outputs": [],
   "source": [
    "#Example 1\n",
    "def f(fx):\n",
    "    print(\"Inside Function, Before reassignment: Id:- {0}, Value:- {1}\".format(id(fx), fx))\n",
    "    fx = 20\n",
    "    print(\"Inside Function, After reassignment:- {0}, Value:- {1}\".format(id(fx), fx))"
   ]
  },
  {
   "cell_type": "code",
   "execution_count": 29,
   "metadata": {},
   "outputs": [
    {
     "name": "stdout",
     "output_type": "stream",
     "text": [
      "Before: ID :- 10911392\n",
      "Inside Function, Before reassignment: Id:- 10911392, Value:- 10\n",
      "Inside Function, After reassignment:- 10911712, Value:- 20\n",
      "After: ID :- 10911392\n"
     ]
    }
   ],
   "source": [
    "x = 10\n",
    "print(\"Before: ID :- {}\".format(id(x)))\n",
    "f(x)\n",
    "print(\"After: ID :- {}\".format(id(x)))"
   ]
  },
  {
   "cell_type": "code",
   "execution_count": 30,
   "metadata": {},
   "outputs": [],
   "source": [
    "#Example 2\n",
    "def g(my_list):\n",
    "    my_list = [1,2,3]"
   ]
  },
  {
   "cell_type": "code",
   "execution_count": 31,
   "metadata": {},
   "outputs": [
    {
     "name": "stdout",
     "output_type": "stream",
     "text": [
      "[10, 20, 30, 40, 50]\n"
     ]
    }
   ],
   "source": [
    "outer_list = [10,20,30,40,50]\n",
    "g(outer_list)\n",
    "print(outer_list)"
   ]
  },
  {
   "cell_type": "code",
   "execution_count": 32,
   "metadata": {},
   "outputs": [],
   "source": [
    "#Example 3\n",
    "def change(my_list):\n",
    "    my_list.append(100)"
   ]
  },
  {
   "cell_type": "code",
   "execution_count": 34,
   "metadata": {},
   "outputs": [
    {
     "data": {
      "text/plain": [
       "[1, 2, 3, 100]"
      ]
     },
     "execution_count": 34,
     "metadata": {},
     "output_type": "execute_result"
    }
   ],
   "source": [
    "outer_list = [1,2,3]\n",
    "change(outer_list)\n",
    "outer_list"
   ]
  },
  {
   "cell_type": "code",
   "execution_count": null,
   "metadata": {},
   "outputs": [],
   "source": []
  }
 ],
 "metadata": {
  "kernelspec": {
   "display_name": "Python 3",
   "language": "python",
   "name": "python3"
  },
  "language_info": {
   "codemirror_mode": {
    "name": "ipython",
    "version": 3
   },
   "file_extension": ".py",
   "mimetype": "text/x-python",
   "name": "python",
   "nbconvert_exporter": "python",
   "pygments_lexer": "ipython3",
   "version": "3.5.2"
  }
 },
 "nbformat": 4,
 "nbformat_minor": 2
}
